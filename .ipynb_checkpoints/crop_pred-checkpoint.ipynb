{
 "cells": [
  {
   "cell_type": "code",
   "execution_count": 61,
   "id": "dab5deab",
   "metadata": {},
   "outputs": [],
   "source": [
    "import pandas as pd"
   ]
  },
  {
   "cell_type": "code",
   "execution_count": 95,
   "id": "390931a1",
   "metadata": {},
   "outputs": [],
   "source": [
    "data = pd.read_csv(r'C:\\Users\\Tarun\\Desktop\\comp\\mini-pred\\MiniProjectDatasets\\crop_production.csv')"
   ]
  },
  {
   "cell_type": "code",
   "execution_count": 96,
   "id": "86c4dccc",
   "metadata": {},
   "outputs": [
    {
     "data": {
      "text/html": [
       "<div>\n",
       "<style scoped>\n",
       "    .dataframe tbody tr th:only-of-type {\n",
       "        vertical-align: middle;\n",
       "    }\n",
       "\n",
       "    .dataframe tbody tr th {\n",
       "        vertical-align: top;\n",
       "    }\n",
       "\n",
       "    .dataframe thead th {\n",
       "        text-align: right;\n",
       "    }\n",
       "</style>\n",
       "<table border=\"1\" class=\"dataframe\">\n",
       "  <thead>\n",
       "    <tr style=\"text-align: right;\">\n",
       "      <th></th>\n",
       "      <th>State_Name</th>\n",
       "      <th>District_Name</th>\n",
       "      <th>Crop_Year</th>\n",
       "      <th>Season</th>\n",
       "      <th>Crop</th>\n",
       "      <th>Area</th>\n",
       "      <th>Production</th>\n",
       "    </tr>\n",
       "  </thead>\n",
       "  <tbody>\n",
       "    <tr>\n",
       "      <th>0</th>\n",
       "      <td>Andaman and Nicobar Islands</td>\n",
       "      <td>NICOBARS</td>\n",
       "      <td>2000</td>\n",
       "      <td>Kharif</td>\n",
       "      <td>Arecanut</td>\n",
       "      <td>1254.0</td>\n",
       "      <td>2000.0</td>\n",
       "    </tr>\n",
       "    <tr>\n",
       "      <th>1</th>\n",
       "      <td>Andaman and Nicobar Islands</td>\n",
       "      <td>NICOBARS</td>\n",
       "      <td>2000</td>\n",
       "      <td>Kharif</td>\n",
       "      <td>Other Kharif pulses</td>\n",
       "      <td>2.0</td>\n",
       "      <td>1.0</td>\n",
       "    </tr>\n",
       "    <tr>\n",
       "      <th>2</th>\n",
       "      <td>Andaman and Nicobar Islands</td>\n",
       "      <td>NICOBARS</td>\n",
       "      <td>2000</td>\n",
       "      <td>Kharif</td>\n",
       "      <td>Rice</td>\n",
       "      <td>102.0</td>\n",
       "      <td>321.0</td>\n",
       "    </tr>\n",
       "    <tr>\n",
       "      <th>3</th>\n",
       "      <td>Andaman and Nicobar Islands</td>\n",
       "      <td>NICOBARS</td>\n",
       "      <td>2000</td>\n",
       "      <td>Whole Year</td>\n",
       "      <td>Banana</td>\n",
       "      <td>176.0</td>\n",
       "      <td>641.0</td>\n",
       "    </tr>\n",
       "    <tr>\n",
       "      <th>4</th>\n",
       "      <td>Andaman and Nicobar Islands</td>\n",
       "      <td>NICOBARS</td>\n",
       "      <td>2000</td>\n",
       "      <td>Whole Year</td>\n",
       "      <td>Cashewnut</td>\n",
       "      <td>720.0</td>\n",
       "      <td>165.0</td>\n",
       "    </tr>\n",
       "  </tbody>\n",
       "</table>\n",
       "</div>"
      ],
      "text/plain": [
       "                    State_Name District_Name  Crop_Year       Season  \\\n",
       "0  Andaman and Nicobar Islands      NICOBARS       2000  Kharif        \n",
       "1  Andaman and Nicobar Islands      NICOBARS       2000  Kharif        \n",
       "2  Andaman and Nicobar Islands      NICOBARS       2000  Kharif        \n",
       "3  Andaman and Nicobar Islands      NICOBARS       2000  Whole Year    \n",
       "4  Andaman and Nicobar Islands      NICOBARS       2000  Whole Year    \n",
       "\n",
       "                  Crop    Area  Production  \n",
       "0             Arecanut  1254.0      2000.0  \n",
       "1  Other Kharif pulses     2.0         1.0  \n",
       "2                 Rice   102.0       321.0  \n",
       "3               Banana   176.0       641.0  \n",
       "4            Cashewnut   720.0       165.0  "
      ]
     },
     "execution_count": 96,
     "metadata": {},
     "output_type": "execute_result"
    }
   ],
   "source": [
    "data.head()"
   ]
  },
  {
   "cell_type": "code",
   "execution_count": 97,
   "id": "16bd0689",
   "metadata": {},
   "outputs": [],
   "source": [
    "data=data.drop(['State_Name','Crop_Year','Area','Production'],axis=1)"
   ]
  },
  {
   "cell_type": "code",
   "execution_count": 98,
   "id": "ac96af62",
   "metadata": {},
   "outputs": [],
   "source": [
    "data['District_Name']=data['District_Name'].str.lower()\n",
    "data['Season']=data['Season'].str.lower()\n",
    "data['Crop']=data['Crop'].str.lower()"
   ]
  },
  {
   "cell_type": "code",
   "execution_count": 99,
   "id": "89afb6f5",
   "metadata": {},
   "outputs": [
    {
     "data": {
      "text/html": [
       "<div>\n",
       "<style scoped>\n",
       "    .dataframe tbody tr th:only-of-type {\n",
       "        vertical-align: middle;\n",
       "    }\n",
       "\n",
       "    .dataframe tbody tr th {\n",
       "        vertical-align: top;\n",
       "    }\n",
       "\n",
       "    .dataframe thead th {\n",
       "        text-align: right;\n",
       "    }\n",
       "</style>\n",
       "<table border=\"1\" class=\"dataframe\">\n",
       "  <thead>\n",
       "    <tr style=\"text-align: right;\">\n",
       "      <th></th>\n",
       "      <th>District_Name</th>\n",
       "      <th>Season</th>\n",
       "      <th>Crop</th>\n",
       "    </tr>\n",
       "  </thead>\n",
       "  <tbody>\n",
       "    <tr>\n",
       "      <th>0</th>\n",
       "      <td>nicobars</td>\n",
       "      <td>kharif</td>\n",
       "      <td>arecanut</td>\n",
       "    </tr>\n",
       "    <tr>\n",
       "      <th>1</th>\n",
       "      <td>nicobars</td>\n",
       "      <td>kharif</td>\n",
       "      <td>other kharif pulses</td>\n",
       "    </tr>\n",
       "    <tr>\n",
       "      <th>2</th>\n",
       "      <td>nicobars</td>\n",
       "      <td>kharif</td>\n",
       "      <td>rice</td>\n",
       "    </tr>\n",
       "    <tr>\n",
       "      <th>3</th>\n",
       "      <td>nicobars</td>\n",
       "      <td>whole year</td>\n",
       "      <td>banana</td>\n",
       "    </tr>\n",
       "    <tr>\n",
       "      <th>4</th>\n",
       "      <td>nicobars</td>\n",
       "      <td>whole year</td>\n",
       "      <td>cashewnut</td>\n",
       "    </tr>\n",
       "  </tbody>\n",
       "</table>\n",
       "</div>"
      ],
      "text/plain": [
       "  District_Name       Season                 Crop\n",
       "0      nicobars  kharif                  arecanut\n",
       "1      nicobars  kharif       other kharif pulses\n",
       "2      nicobars  kharif                      rice\n",
       "3      nicobars  whole year                banana\n",
       "4      nicobars  whole year             cashewnut"
      ]
     },
     "execution_count": 99,
     "metadata": {},
     "output_type": "execute_result"
    }
   ],
   "source": [
    "data.head()"
   ]
  },
  {
   "cell_type": "code",
   "execution_count": 100,
   "id": "ccace3a4",
   "metadata": {},
   "outputs": [],
   "source": [
    "data = data.drop_duplicates(subset=[\"District_Name\"], keep=\"first\")"
   ]
  },
  {
   "cell_type": "code",
   "execution_count": 101,
   "id": "bdf22d77",
   "metadata": {},
   "outputs": [
    {
     "data": {
      "text/html": [
       "<div>\n",
       "<style scoped>\n",
       "    .dataframe tbody tr th:only-of-type {\n",
       "        vertical-align: middle;\n",
       "    }\n",
       "\n",
       "    .dataframe tbody tr th {\n",
       "        vertical-align: top;\n",
       "    }\n",
       "\n",
       "    .dataframe thead th {\n",
       "        text-align: right;\n",
       "    }\n",
       "</style>\n",
       "<table border=\"1\" class=\"dataframe\">\n",
       "  <thead>\n",
       "    <tr style=\"text-align: right;\">\n",
       "      <th></th>\n",
       "      <th>District_Name</th>\n",
       "      <th>Season</th>\n",
       "      <th>Crop</th>\n",
       "    </tr>\n",
       "  </thead>\n",
       "  <tbody>\n",
       "    <tr>\n",
       "      <th>0</th>\n",
       "      <td>nicobars</td>\n",
       "      <td>kharif</td>\n",
       "      <td>arecanut</td>\n",
       "    </tr>\n",
       "    <tr>\n",
       "      <th>79</th>\n",
       "      <td>north and middle andaman</td>\n",
       "      <td>kharif</td>\n",
       "      <td>arecanut</td>\n",
       "    </tr>\n",
       "    <tr>\n",
       "      <th>129</th>\n",
       "      <td>south andamans</td>\n",
       "      <td>kharif</td>\n",
       "      <td>rice</td>\n",
       "    </tr>\n",
       "    <tr>\n",
       "      <th>203</th>\n",
       "      <td>anantapur</td>\n",
       "      <td>kharif</td>\n",
       "      <td>arhar/tur</td>\n",
       "    </tr>\n",
       "    <tr>\n",
       "      <th>991</th>\n",
       "      <td>chittoor</td>\n",
       "      <td>kharif</td>\n",
       "      <td>arhar/tur</td>\n",
       "    </tr>\n",
       "  </tbody>\n",
       "</table>\n",
       "</div>"
      ],
      "text/plain": [
       "                District_Name       Season       Crop\n",
       "0                    nicobars  kharif        arecanut\n",
       "79   north and middle andaman  kharif        arecanut\n",
       "129            south andamans  kharif            rice\n",
       "203                 anantapur  kharif       arhar/tur\n",
       "991                  chittoor  kharif       arhar/tur"
      ]
     },
     "execution_count": 101,
     "metadata": {},
     "output_type": "execute_result"
    }
   ],
   "source": [
    "data.head()"
   ]
  },
  {
   "cell_type": "code",
   "execution_count": 102,
   "id": "240de8da",
   "metadata": {},
   "outputs": [],
   "source": [
    "from sklearn.preprocessing import LabelEncoder"
   ]
  },
  {
   "cell_type": "code",
   "execution_count": 103,
   "id": "315d0912",
   "metadata": {},
   "outputs": [],
   "source": [
    "le=LabelEncoder()"
   ]
  },
  {
   "cell_type": "code",
   "execution_count": 104,
   "id": "412eed6c",
   "metadata": {},
   "outputs": [
    {
     "name": "stdout",
     "output_type": "stream",
     "text": [
      "{'24 paraganas north': 0, '24 paraganas south': 1, 'adilabad': 2, 'agar malwa': 3, 'agra': 4, 'ahmadabad': 5, 'ahmednagar': 6, 'aizawl': 7, 'ajmer': 8, 'akola': 9, 'alappuzha': 10, 'aligarh': 11, 'alirajpur': 12, 'allahabad': 13, 'almora': 14, 'alwar': 15, 'ambala': 16, 'ambedkar nagar': 17, 'amethi': 18, 'amravati': 19, 'amreli': 20, 'amritsar': 21, 'amroha': 22, 'anand': 23, 'anantapur': 24, 'anantnag': 25, 'anjaw': 26, 'anugul': 27, 'anuppur': 28, 'araria': 29, 'ariyalur': 30, 'arwal': 31, 'ashoknagar': 32, 'auraiya': 33, 'aurangabad': 34, 'azamgarh': 35, 'badgam': 36, 'bagalkot': 37, 'bageshwar': 38, 'baghpat': 39, 'bahraich': 40, 'baksa': 41, 'balaghat': 42, 'balangir': 43, 'baleshwar': 44, 'ballia': 45, 'balod': 46, 'baloda bazar': 47, 'balrampur': 48, 'banas kantha': 49, 'banda': 50, 'bandipora': 51, 'bangalore rural': 52, 'banka': 53, 'bankura': 54, 'banswara': 55, 'barabanki': 56, 'baramulla': 57, 'baran': 58, 'bardhaman': 59, 'bareilly': 60, 'bargarh': 61, 'barmer': 62, 'barnala': 63, 'barpeta': 64, 'barwani': 65, 'bastar': 66, 'basti': 67, 'bathinda': 68, 'beed': 69, 'begusarai': 70, 'belgaum': 71, 'bellary': 72, 'bemetara': 73, 'bengaluru urban': 74, 'betul': 75, 'bhadrak': 76, 'bhagalpur': 77, 'bhandara': 78, 'bharatpur': 79, 'bharuch': 80, 'bhavnagar': 81, 'bhilwara': 82, 'bhind': 83, 'bhiwani': 84, 'bhojpur': 85, 'bhopal': 86, 'bidar': 87, 'bijapur': 88, 'bijnor': 89, 'bikaner': 90, 'bilaspur': 91, 'birbhum': 92, 'bishnupur': 93, 'bokaro': 94, 'bongaigaon': 95, 'boudh': 96, 'budaun': 97, 'bulandshahr': 98, 'buldhana': 99, 'bundi': 100, 'burhanpur': 101, 'buxar': 102, 'cachar': 103, 'chamarajanagar': 104, 'chamba': 105, 'chamoli': 106, 'champawat': 107, 'champhai': 108, 'chandauli': 109, 'chandel': 110, 'chandigarh': 111, 'chandrapur': 112, 'changlang': 113, 'chatra': 114, 'chhatarpur': 115, 'chhindwara': 116, 'chikballapur': 117, 'chikmagalur': 118, 'chirang': 119, 'chitradurga': 120, 'chitrakoot': 121, 'chittoor': 122, 'chittorgarh': 123, 'churachandpur': 124, 'churu': 125, 'coimbatore': 126, 'coochbehar': 127, 'cuddalore': 128, 'cuttack': 129, 'dadra and nagar haveli': 130, 'dakshin kannad': 131, 'damoh': 132, 'dang': 133, 'dantewada': 134, 'darbhanga': 135, 'darjeeling': 136, 'darrang': 137, 'datia': 138, 'dausa': 139, 'davangere': 140, 'dehradun': 141, 'deogarh': 142, 'deoghar': 143, 'deoria': 144, 'dewas': 145, 'dhalai': 146, 'dhamtari': 147, 'dhanbad': 148, 'dhar': 149, 'dharmapuri': 150, 'dharwad': 151, 'dhemaji': 152, 'dhenkanal': 153, 'dholpur': 154, 'dhubri': 155, 'dhule': 156, 'dibang valley': 157, 'dibrugarh': 158, 'dima hasao': 159, 'dimapur': 160, 'dinajpur dakshin': 161, 'dinajpur uttar': 162, 'dindigul': 163, 'dindori': 164, 'doda': 165, 'dohad': 166, 'dumka': 167, 'dungarpur': 168, 'durg': 169, 'east district': 170, 'east garo hills': 171, 'east godavari': 172, 'east jaintia hills': 173, 'east kameng': 174, 'east khasi hills': 175, 'east siang': 176, 'east singhbum': 177, 'ernakulam': 178, 'erode': 179, 'etah': 180, 'etawah': 181, 'faizabad': 182, 'faridabad': 183, 'faridkot': 184, 'farrukhabad': 185, 'fatehabad': 186, 'fatehgarh sahib': 187, 'fatehpur': 188, 'fazilka': 189, 'firozabad': 190, 'firozepur': 191, 'gadag': 192, 'gadchiroli': 193, 'gajapati': 194, 'ganderbal': 195, 'gandhinagar': 196, 'ganganagar': 197, 'ganjam': 198, 'garhwa': 199, 'gariyaband': 200, 'gautam buddha nagar': 201, 'gaya': 202, 'ghaziabad': 203, 'ghazipur': 204, 'giridih': 205, 'goalpara': 206, 'godda': 207, 'golaghat': 208, 'gomati': 209, 'gonda': 210, 'gondia': 211, 'gopalganj': 212, 'gorakhpur': 213, 'gulbarga': 214, 'gumla': 215, 'guna': 216, 'guntur': 217, 'gurdaspur': 218, 'gurgaon': 219, 'gwalior': 220, 'hailakandi': 221, 'hamirpur': 222, 'hanumangarh': 223, 'hapur': 224, 'harda': 225, 'hardoi': 226, 'haridwar': 227, 'hassan': 228, 'hathras': 229, 'haveri': 230, 'hazaribagh': 231, 'hingoli': 232, 'hisar': 233, 'hooghly': 234, 'hoshangabad': 235, 'hoshiarpur': 236, 'howrah': 237, 'hyderabad': 238, 'idukki': 239, 'imphal east': 240, 'imphal west': 241, 'indore': 242, 'jabalpur': 243, 'jagatsinghapur': 244, 'jaipur': 245, 'jaisalmer': 246, 'jajapur': 247, 'jalandhar': 248, 'jalaun': 249, 'jalgaon': 250, 'jalna': 251, 'jalore': 252, 'jalpaiguri': 253, 'jammu': 254, 'jamnagar': 255, 'jamtara': 256, 'jamui': 257, 'janjgir-champa': 258, 'jashpur': 259, 'jaunpur': 260, 'jehanabad': 261, 'jhabua': 262, 'jhajjar': 263, 'jhalawar': 264, 'jhansi': 265, 'jharsuguda': 266, 'jhunjhunu': 267, 'jind': 268, 'jodhpur': 269, 'jorhat': 270, 'junagadh': 271, 'kabirdham': 272, 'kachchh': 273, 'kadapa': 274, 'kaimur (bhabua)': 275, 'kaithal': 276, 'kalahandi': 277, 'kamrup': 278, 'kamrup metro': 279, 'kanchipuram': 280, 'kandhamal': 281, 'kangra': 282, 'kanker': 283, 'kannauj': 284, 'kanniyakumari': 285, 'kannur': 286, 'kanpur dehat': 287, 'kanpur nagar': 288, 'kapurthala': 289, 'karaikal': 290, 'karauli': 291, 'karbi anglong': 292, 'kargil': 293, 'karimganj': 294, 'karimnagar': 295, 'karnal': 296, 'karur': 297, 'kasaragod': 298, 'kasganj': 299, 'kathua': 300, 'katihar': 301, 'katni': 302, 'kaushambi': 303, 'kendrapara': 304, 'kendujhar': 305, 'khagaria': 306, 'khammam': 307, 'khandwa': 308, 'khargone': 309, 'kheda': 310, 'kheri': 311, 'khordha': 312, 'khowai': 313, 'khunti': 314, 'kinnaur': 315, 'kiphire': 316, 'kishanganj': 317, 'kishtwar': 318, 'kodagu': 319, 'koderma': 320, 'kohima': 321, 'kokrajhar': 322, 'kolar': 323, 'kolasib': 324, 'kolhapur': 325, 'kollam': 326, 'kondagaon': 327, 'koppal': 328, 'koraput': 329, 'korba': 330, 'korea': 331, 'kota': 332, 'kottayam': 333, 'kozhikode': 334, 'krishna': 335, 'krishnagiri': 336, 'kulgam': 337, 'kullu': 338, 'kupwara': 339, 'kurnool': 340, 'kurukshetra': 341, 'kurung kumey': 342, 'kushi nagar': 343, 'lahul and spiti': 344, 'lakhimpur': 345, 'lakhisarai': 346, 'lalitpur': 347, 'latehar': 348, 'latur': 349, 'lawngtlai': 350, 'leh ladakh': 351, 'lohardaga': 352, 'lohit': 353, 'longding': 354, 'longleng': 355, 'lower dibang valley': 356, 'lower subansiri': 357, 'lucknow': 358, 'ludhiana': 359, 'lunglei': 360, 'madhepura': 361, 'madhubani': 362, 'madurai': 363, 'maharajganj': 364, 'mahasamund': 365, 'mahbubnagar': 366, 'mahe': 367, 'mahendragarh': 368, 'mahesana': 369, 'mahoba': 370, 'mainpuri': 371, 'malappuram': 372, 'maldah': 373, 'malkangiri': 374, 'mamit': 375, 'mandi': 376, 'mandla': 377, 'mandsaur': 378, 'mandya': 379, 'mansa': 380, 'marigaon': 381, 'mathura': 382, 'mau': 383, 'mayurbhanj': 384, 'medak': 385, 'medinipur east': 386, 'medinipur west': 387, 'meerut': 388, 'mewat': 389, 'mirzapur': 390, 'moga': 391, 'mokokchung': 392, 'mon': 393, 'moradabad': 394, 'morena': 395, 'muktsar': 396, 'mumbai': 397, 'mungeli': 398, 'munger': 399, 'murshidabad': 400, 'muzaffarnagar': 401, 'muzaffarpur': 402, 'mysore': 403, 'nabarangpur': 404, 'nadia': 405, 'nagaon': 406, 'nagapattinam': 407, 'nagaur': 408, 'nagpur': 409, 'nainital': 410, 'nalanda': 411, 'nalbari': 412, 'nalgonda': 413, 'namakkal': 414, 'namsai': 415, 'nanded': 416, 'nandurbar': 417, 'narayanpur': 418, 'narmada': 419, 'narsinghpur': 420, 'nashik': 421, 'navsari': 422, 'nawada': 423, 'nawanshahr': 424, 'nayagarh': 425, 'neemuch': 426, 'nicobars': 427, 'nizamabad': 428, 'north and middle andaman': 429, 'north district': 430, 'north garo hills': 431, 'north goa': 432, 'north tripura': 433, 'nuapada': 434, 'osmanabad': 435, 'pakur': 436, 'palakkad': 437, 'palamu': 438, 'palghar': 439, 'pali': 440, 'palwal': 441, 'panch mahals': 442, 'panchkula': 443, 'panipat': 444, 'panna': 445, 'papum pare': 446, 'parbhani': 447, 'pashchim champaran': 448, 'patan': 449, 'pathanamthitta': 450, 'pathankot': 451, 'patiala': 452, 'patna': 453, 'pauri garhwal': 454, 'perambalur': 455, 'peren': 456, 'phek': 457, 'pilibhit': 458, 'pithoragarh': 459, 'pondicherry': 460, 'poonch': 461, 'porbandar': 462, 'prakasam': 463, 'pratapgarh': 464, 'pudukkottai': 465, 'pulwama': 466, 'pune': 467, 'purbi champaran': 468, 'puri': 469, 'purnia': 470, 'purulia': 471, 'rae bareli': 472, 'raichur': 473, 'raigad': 474, 'raigarh': 475, 'raipur': 476, 'raisen': 477, 'rajauri': 478, 'rajgarh': 479, 'rajkot': 480, 'rajnandgaon': 481, 'rajsamand': 482, 'ramanagara': 483, 'ramanathapuram': 484, 'ramban': 485, 'ramgarh': 486, 'rampur': 487, 'ranchi': 488, 'rangareddi': 489, 'ratlam': 490, 'ratnagiri': 491, 'rayagada': 492, 'reasi': 493, 'rewa': 494, 'rewari': 495, 'ri bhoi': 496, 'rohtak': 497, 'rohtas': 498, 'rudra prayag': 499, 'rupnagar': 500, 's.a.s nagar': 501, 'sabar kantha': 502, 'sagar': 503, 'saharanpur': 504, 'saharsa': 505, 'sahebganj': 506, 'saiha': 507, 'salem': 508, 'samastipur': 509, 'samba': 510, 'sambalpur': 511, 'sambhal': 512, 'sangli': 513, 'sangrur': 514, 'sant kabeer nagar': 515, 'sant ravidas nagar': 516, 'saraikela kharsawan': 517, 'saran': 518, 'satara': 519, 'satna': 520, 'sawai madhopur': 521, 'sehore': 522, 'senapati': 523, 'seoni': 524, 'sepahijala': 525, 'serchhip': 526, 'shahdol': 527, 'shahjahanpur': 528, 'shajapur': 529, 'shamli': 530, 'sheikhpura': 531, 'sheohar': 532, 'sheopur': 533, 'shimla': 534, 'shimoga': 535, 'shivpuri': 536, 'shopian': 537, 'shravasti': 538, 'siddharth nagar': 539, 'sidhi': 540, 'sikar': 541, 'simdega': 542, 'sindhudurg': 543, 'singrauli': 544, 'sirmaur': 545, 'sirohi': 546, 'sirsa': 547, 'sitamarhi': 548, 'sitapur': 549, 'sivaganga': 550, 'sivasagar': 551, 'siwan': 552, 'solan': 553, 'solapur': 554, 'sonbhadra': 555, 'sonepur': 556, 'sonipat': 557, 'sonitpur': 558, 'south andamans': 559, 'south district': 560, 'south garo hills': 561, 'south goa': 562, 'south tripura': 563, 'south west garo hills': 564, 'south west khasi hills': 565, 'spsr nellore': 566, 'srikakulam': 567, 'srinagar': 568, 'sukma': 569, 'sultanpur': 570, 'sundargarh': 571, 'supaul': 572, 'surajpur': 573, 'surat': 574, 'surendranagar': 575, 'surguja': 576, 'tamenglong': 577, 'tapi': 578, 'tarn taran': 579, 'tawang': 580, 'tehri garhwal': 581, 'thane': 582, 'thanjavur': 583, 'the nilgiris': 584, 'theni': 585, 'thiruvallur': 586, 'thiruvananthapuram': 587, 'thiruvarur': 588, 'thoubal': 589, 'thrissur': 590, 'tikamgarh': 591, 'tinsukia': 592, 'tirap': 593, 'tiruchirappalli': 594, 'tirunelveli': 595, 'tiruppur': 596, 'tiruvannamalai': 597, 'tonk': 598, 'tuensang': 599, 'tumkur': 600, 'tuticorin': 601, 'udaipur': 602, 'udalguri': 603, 'udam singh nagar': 604, 'udhampur': 605, 'udupi': 606, 'ujjain': 607, 'ukhrul': 608, 'umaria': 609, 'una': 610, 'unakoti': 611, 'unnao': 612, 'upper siang': 613, 'upper subansiri': 614, 'uttar kannad': 615, 'uttar kashi': 616, 'vadodara': 617, 'vaishali': 618, 'valsad': 619, 'varanasi': 620, 'vellore': 621, 'vidisha': 622, 'villupuram': 623, 'virudhunagar': 624, 'visakhapatanam': 625, 'vizianagaram': 626, 'warangal': 627, 'wardha': 628, 'washim': 629, 'wayanad': 630, 'west district': 631, 'west garo hills': 632, 'west godavari': 633, 'west jaintia hills': 634, 'west kameng': 635, 'west khasi hills': 636, 'west siang': 637, 'west singhbhum': 638, 'west tripura': 639, 'wokha': 640, 'yadgir': 641, 'yamunanagar': 642, 'yanam': 643, 'yavatmal': 644, 'zunheboto': 645}\n"
     ]
    }
   ],
   "source": [
    "data['District_Name']=le.fit_transform(data['District_Name'])\n",
    "#from sklearn.preprocessing import LabelEncoder\n",
    "##le = LabelEncoder()\n",
    "le_name_mapping = dict(zip(le.classes_, le.transform(le.classes_)))\n",
    "print(le_name_mapping)"
   ]
  },
  {
   "cell_type": "code",
   "execution_count": 105,
   "id": "2b96198f",
   "metadata": {},
   "outputs": [
    {
     "name": "stdout",
     "output_type": "stream",
     "text": [
      "{'autumn     ': 0, 'kharif     ': 1, 'rabi       ': 2, 'summer     ': 3, 'whole year ': 4}\n"
     ]
    }
   ],
   "source": [
    "data['Season']=le.fit_transform(data['Season'])\n",
    "#from sklearn.preprocessing import LabelEncoder\n",
    "##le = LabelEncoder()\n",
    "le_name_mapping = dict(zip(le.classes_, le.transform(le.classes_)))\n",
    "print(le_name_mapping)"
   ]
  },
  {
   "cell_type": "code",
   "execution_count": 106,
   "id": "6e839349",
   "metadata": {},
   "outputs": [
    {
     "name": "stdout",
     "output_type": "stream",
     "text": [
      "{'arecanut': 0, 'arhar/tur': 1, 'bajra': 2, 'banana': 3, 'barley': 4, 'black pepper': 5, 'coriander': 6, 'cotton(lint)': 7, 'dry chillies': 8, 'dry ginger': 9, 'groundnut': 10, 'horse-gram': 11, 'jowar': 12, 'jute': 13, 'kapas': 14, 'maize': 15, 'mesta': 16, 'moong(green gram)': 17, 'onion': 18, 'other kharif pulses': 19, 'paddy': 20, 'peas & beans (pulses)': 21, 'potato': 22, 'ragi': 23, 'rice': 24, 'sugarcane': 25, 'wheat': 26}\n"
     ]
    }
   ],
   "source": [
    "data['Crop']=le.fit_transform(data['Crop'])\n",
    "#from sklearn.preprocessing import LabelEncoder\n",
    "##le = LabelEncoder()\n",
    "le_name_mapping = dict(zip(le.classes_, le.transform(le.classes_)))\n",
    "print(le_name_mapping)"
   ]
  },
  {
   "cell_type": "code",
   "execution_count": 107,
   "id": "df8f6d27",
   "metadata": {},
   "outputs": [
    {
     "data": {
      "text/html": [
       "<div>\n",
       "<style scoped>\n",
       "    .dataframe tbody tr th:only-of-type {\n",
       "        vertical-align: middle;\n",
       "    }\n",
       "\n",
       "    .dataframe tbody tr th {\n",
       "        vertical-align: top;\n",
       "    }\n",
       "\n",
       "    .dataframe thead th {\n",
       "        text-align: right;\n",
       "    }\n",
       "</style>\n",
       "<table border=\"1\" class=\"dataframe\">\n",
       "  <thead>\n",
       "    <tr style=\"text-align: right;\">\n",
       "      <th></th>\n",
       "      <th>District_Name</th>\n",
       "      <th>Season</th>\n",
       "      <th>Crop</th>\n",
       "    </tr>\n",
       "  </thead>\n",
       "  <tbody>\n",
       "    <tr>\n",
       "      <th>0</th>\n",
       "      <td>427</td>\n",
       "      <td>1</td>\n",
       "      <td>0</td>\n",
       "    </tr>\n",
       "    <tr>\n",
       "      <th>79</th>\n",
       "      <td>429</td>\n",
       "      <td>1</td>\n",
       "      <td>0</td>\n",
       "    </tr>\n",
       "    <tr>\n",
       "      <th>129</th>\n",
       "      <td>559</td>\n",
       "      <td>1</td>\n",
       "      <td>24</td>\n",
       "    </tr>\n",
       "    <tr>\n",
       "      <th>203</th>\n",
       "      <td>24</td>\n",
       "      <td>1</td>\n",
       "      <td>1</td>\n",
       "    </tr>\n",
       "    <tr>\n",
       "      <th>991</th>\n",
       "      <td>122</td>\n",
       "      <td>1</td>\n",
       "      <td>1</td>\n",
       "    </tr>\n",
       "  </tbody>\n",
       "</table>\n",
       "</div>"
      ],
      "text/plain": [
       "     District_Name  Season  Crop\n",
       "0              427       1     0\n",
       "79             429       1     0\n",
       "129            559       1    24\n",
       "203             24       1     1\n",
       "991            122       1     1"
      ]
     },
     "execution_count": 107,
     "metadata": {},
     "output_type": "execute_result"
    }
   ],
   "source": [
    "data.head()"
   ]
  },
  {
   "cell_type": "code",
   "execution_count": 108,
   "id": "689bb94d",
   "metadata": {},
   "outputs": [
    {
     "name": "stdout",
     "output_type": "stream",
     "text": [
      "{'arecanut': 0, 'arhar/tur': 1, 'bajra': 2, 'banana': 3, 'barley': 4, 'black pepper': 5, 'coriander': 6, 'cotton(lint)': 7, 'dry chillies': 8, 'dry ginger': 9, 'groundnut': 10, 'horse-gram': 11, 'jowar': 12, 'jute': 13, 'kapas': 14, 'maize': 15, 'mesta': 16, 'moong(green gram)': 17, 'onion': 18, 'other kharif pulses': 19, 'paddy': 20, 'peas & beans (pulses)': 21, 'potato': 22, 'ragi': 23, 'rice': 24, 'sugarcane': 25, 'wheat': 26}\n"
     ]
    }
   ],
   "source": [
    "#from sklearn.preprocessing import LabelEncoder\n",
    "##le = LabelEncoder()\n",
    "le_name_mapping = dict(zip(le.classes_, le.transform(le.classes_)))\n",
    "print(le_name_mapping)"
   ]
  },
  {
   "cell_type": "code",
   "execution_count": 26,
   "id": "5e588bab",
   "metadata": {},
   "outputs": [],
   "source": [
    "from sklearn.model_selection import train_test_split"
   ]
  },
  {
   "cell_type": "code",
   "execution_count": 27,
   "id": "e60ab9fe",
   "metadata": {},
   "outputs": [],
   "source": [
    "X=data[['District_Name','Season']]\n",
    "y=data['Crop']\n",
    "X_train,X_test,y_train,y_test=train_test_split(X,y,test_size=0.3)"
   ]
  },
  {
   "cell_type": "code",
   "execution_count": 45,
   "id": "4d0c5abc",
   "metadata": {},
   "outputs": [
    {
     "name": "stderr",
     "output_type": "stream",
     "text": [
      "C:\\Users\\Tarun\\Anaconda3\\lib\\site-packages\\sklearn\\linear_model\\_logistic.py:765: ConvergenceWarning: lbfgs failed to converge (status=1):\n",
      "STOP: TOTAL NO. of ITERATIONS REACHED LIMIT.\n",
      "\n",
      "Increase the number of iterations (max_iter) or scale the data as shown in:\n",
      "    https://scikit-learn.org/stable/modules/preprocessing.html\n",
      "Please also refer to the documentation for alternative solver options:\n",
      "    https://scikit-learn.org/stable/modules/linear_model.html#logistic-regression\n",
      "  extra_warning_msg=_LOGISTIC_SOLVER_CONVERGENCE_MSG)\n"
     ]
    },
    {
     "name": "stdout",
     "output_type": "stream",
     "text": [
      "Accuracy Score for Logistic Regression is :  67.0103092783505 %\n",
      "[1]\n",
      "Accuracy Score for Random Forest is :  49.48453608247423 %\n",
      "[1]\n",
      "Accuracy Score for Support Vector Machine is :  58.24742268041238 %\n",
      "[1]\n",
      "Accuracy Score for Multi Layer Perceptron is :  63.4020618556701 %\n",
      "[1]\n"
     ]
    }
   ],
   "source": [
    "from sklearn.linear_model import LogisticRegression\n",
    "from sklearn.ensemble import RandomForestClassifier\n",
    "from sklearn import svm\n",
    "from sklearn.neural_network import MLPClassifier\n",
    "\n",
    "models = {\n",
    "    LogisticRegression(max_iter=800):'Logistic Regression',\n",
    "    RandomForestClassifier():'Random Forest',\n",
    "    svm.SVC():'Support Vector Machine',\n",
    "    MLPClassifier():'Multi Layer Perceptron'\n",
    "}\n",
    "for m in models.keys():\n",
    "    m.fit(X_train,y_train)\n",
    "for model,name in models.items():\n",
    "    print(f\"Accuracy Score for {name} is : \",model.score(X_test,y_test)*100,\"%\")\n",
    "    print(model.predict([[24,1]]))"
   ]
  },
  {
   "cell_type": "code",
   "execution_count": 47,
   "id": "509428c3",
   "metadata": {},
   "outputs": [
    {
     "name": "stdout",
     "output_type": "stream",
     "text": [
      "Accuracy Score for Logistic Regression is :  67.0103092783505 %\n"
     ]
    },
    {
     "name": "stderr",
     "output_type": "stream",
     "text": [
      "C:\\Users\\Tarun\\Anaconda3\\lib\\site-packages\\sklearn\\linear_model\\_logistic.py:765: ConvergenceWarning: lbfgs failed to converge (status=1):\n",
      "STOP: TOTAL NO. of ITERATIONS REACHED LIMIT.\n",
      "\n",
      "Increase the number of iterations (max_iter) or scale the data as shown in:\n",
      "    https://scikit-learn.org/stable/modules/preprocessing.html\n",
      "Please also refer to the documentation for alternative solver options:\n",
      "    https://scikit-learn.org/stable/modules/linear_model.html#logistic-regression\n",
      "  extra_warning_msg=_LOGISTIC_SOLVER_CONVERGENCE_MSG)\n"
     ]
    }
   ],
   "source": [
    "lr=LogisticRegression(max_iter=800)\n",
    "lr.fit(X_train,y_train)\n",
    "print(f\"Accuracy Score for Logistic Regression is : \",lr.score(X_test,y_test)*100,\"%\")"
   ]
  },
  {
   "cell_type": "code",
   "execution_count": 59,
   "id": "c7786982",
   "metadata": {},
   "outputs": [
    {
     "name": "stdout",
     "output_type": "stream",
     "text": [
      "Accuracy Score for Logistic Regression is :  67.0103092783505 %\n"
     ]
    },
    {
     "name": "stderr",
     "output_type": "stream",
     "text": [
      "C:\\Users\\Tarun\\Anaconda3\\lib\\site-packages\\sklearn\\linear_model\\_logistic.py:765: ConvergenceWarning: lbfgs failed to converge (status=1):\n",
      "STOP: TOTAL NO. of ITERATIONS REACHED LIMIT.\n",
      "\n",
      "Increase the number of iterations (max_iter) or scale the data as shown in:\n",
      "    https://scikit-learn.org/stable/modules/preprocessing.html\n",
      "Please also refer to the documentation for alternative solver options:\n",
      "    https://scikit-learn.org/stable/modules/linear_model.html#logistic-regression\n",
      "  extra_warning_msg=_LOGISTIC_SOLVER_CONVERGENCE_MSG)\n"
     ]
    }
   ],
   "source": [
    "import pickle\n",
    "\n",
    "lr=LogisticRegression(max_iter=800)\n",
    "lr.fit(X_train,y_train)\n",
    "print(f\"Accuracy Score for Logistic Regression is : \",lr.score(X_test,y_test)*100,\"%\")\n",
    "\n",
    "\n",
    "# save the model\n",
    "pickle.dump(lr, open(\"model.pkl\", \"wb\"))\n"
   ]
  },
  {
   "cell_type": "code",
   "execution_count": 110,
   "id": "62e0cf71",
   "metadata": {},
   "outputs": [],
   "source": [
    "\n",
    "# load the model\n",
    "model = pickle.load(open(\"model.pkl\", \"rb\"))\n",
    "\n",
    "# use model to predict\n",
    "y_pred = model.predict_proba([[24,1]])\n",
    "y_pred.sort()"
   ]
  },
  {
   "cell_type": "code",
   "execution_count": 111,
   "id": "5c0be203",
   "metadata": {},
   "outputs": [
    {
     "data": {
      "text/plain": [
       "array([[0.00342957, 0.004735  , 0.00478436, 0.0051168 , 0.00544941,\n",
       "        0.00647849, 0.00663684, 0.00737777, 0.00756908, 0.00826045,\n",
       "        0.00827674, 0.0090119 , 0.01149116, 0.01396922, 0.01713623,\n",
       "        0.01822923, 0.03963605, 0.06139794, 0.07427807, 0.10492019,\n",
       "        0.58181551]])"
      ]
     },
     "execution_count": 111,
     "metadata": {},
     "output_type": "execute_result"
    }
   ],
   "source": [
    "y_pred"
   ]
  },
  {
   "cell_type": "code",
   "execution_count": 116,
   "id": "ed41e1d2",
   "metadata": {},
   "outputs": [
    {
     "name": "stdout",
     "output_type": "stream",
     "text": [
      "0.5818155061466461\n"
     ]
    }
   ],
   "source": [
    "print(y_pred[0][len(y_pred[0])-1])"
   ]
  },
  {
   "cell_type": "code",
   "execution_count": 120,
   "id": "403f3932",
   "metadata": {},
   "outputs": [],
   "source": [
    "largest_ind = y_pred[0][len(y_pred[0])-1]\n"
   ]
  },
  {
   "cell_type": "code",
   "execution_count": 121,
   "id": "9a9b5c53",
   "metadata": {},
   "outputs": [
    {
     "ename": "AttributeError",
     "evalue": "'numpy.ndarray' object has no attribute 'index'",
     "output_type": "error",
     "traceback": [
      "\u001b[1;31m---------------------------------------------------------------------------\u001b[0m",
      "\u001b[1;31mAttributeError\u001b[0m                            Traceback (most recent call last)",
      "\u001b[1;32m<ipython-input-121-2fea4687ac2f>\u001b[0m in \u001b[0;36m<module>\u001b[1;34m\u001b[0m\n\u001b[1;32m----> 1\u001b[1;33m \u001b[0mlargest_ind\u001b[0m \u001b[1;33m=\u001b[0m \u001b[0my_pred\u001b[0m\u001b[1;33m[\u001b[0m\u001b[1;36m0\u001b[0m\u001b[1;33m]\u001b[0m\u001b[1;33m.\u001b[0m\u001b[0mindex\u001b[0m\u001b[1;33m(\u001b[0m\u001b[0mlargest_ind\u001b[0m\u001b[1;33m)\u001b[0m\u001b[1;33m\u001b[0m\u001b[0m\n\u001b[0m",
      "\u001b[1;31mAttributeError\u001b[0m: 'numpy.ndarray' object has no attribute 'index'"
     ]
    }
   ],
   "source": [
    "largest = y_pred[0].index(largest_ind)"
   ]
  },
  {
   "cell_type": "code",
   "execution_count": null,
   "id": "43f41580",
   "metadata": {},
   "outputs": [],
   "source": []
  }
 ],
 "metadata": {
  "kernelspec": {
   "display_name": "Python 3",
   "language": "python",
   "name": "python3"
  },
  "language_info": {
   "codemirror_mode": {
    "name": "ipython",
    "version": 3
   },
   "file_extension": ".py",
   "mimetype": "text/x-python",
   "name": "python",
   "nbconvert_exporter": "python",
   "pygments_lexer": "ipython3",
   "version": "3.6.5"
  }
 },
 "nbformat": 4,
 "nbformat_minor": 5
}
